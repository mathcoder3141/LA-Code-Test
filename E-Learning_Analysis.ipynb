{
 "cells": [
  {
   "cell_type": "markdown",
   "metadata": {},
   "source": [
    "# Assessment and User Analysis"
   ]
  },
  {
   "cell_type": "markdown",
   "metadata": {},
   "source": [
    "As online learning is getting more and more popular, E-Learning platforms are growing and they're generating alot of data as a result. The produced data may be about their users, their learning checks, or both. \n",
    "\n",
    "When organizations analyze their assessment data, they may identify trends and patterns such as most missed questions and identifying key modes of central tendencies for a given assessment. They may then use that information to tweak their assessments to help their users succeed in the future.\n",
    "\n",
    "When organizations analyze their user data, they may make use of certain characteristics such as where they are from to them with an adequate learning environment to help them assist with their learning.  "
   ]
  },
  {
   "cell_type": "markdown",
   "metadata": {},
   "source": [
    "## Summary of Results"
   ]
  },
  {
   "cell_type": "markdown",
   "metadata": {},
   "source": [
    "Upon completion of this analysis, we are able to determine the following results:\n",
    "<ul> \n",
    "<li> 245 people have made a zero across all assessments </li>\n",
    "<li> Roughly 81% of people would recommend this to friends </li>\n",
    "<li> Nearly half of the users are from the United States\n",
    "<li> Roughly 84% are satisfied with the assessment they took\n",
    "<li> On average, the longest time a user took on an assessment 26.4 minutes and that was the Troubleshoot Multi-tier Applications assessment</li>\n",
    "<li> On average, the shortest time a user took on an assessment was 17 minutes and that was the Implementing Backup Strategies assessment</li>\n",
    "</ul>"
   ]
  },
  {
   "cell_type": "markdown",
   "metadata": {},
   "source": [
    "The following details the steps we took to determine the above. Please read through this following document and it provides the methods we used to determine the above key results."
   ]
  },
  {
   "cell_type": "code",
   "execution_count": 1,
   "metadata": {
    "collapsed": false
   },
   "outputs": [],
   "source": [
    "# import data analysis libraries\n",
    "\n",
    "import pandas as pd\n",
    "import numpy as np\n",
    "import seaborn as sns\n",
    "import matplotlib.pyplot as plt\n",
    "from datetime import datetime\n",
    "%matplotlib inline\n",
    "\n",
    "\n",
    "# display all column headers\n",
    "pd.set_option(\"display.max_columns\", None)\n",
    "pd.set_option(\"display.max_rows\", None)\n",
    "\n",
    "# Set Pandas Dataframes via relative path\n",
    "events = pd.read_csv(\"AssessmentRealTimeEventsForCodeTest.csv\")\n",
    "score = pd.read_csv(\"AssessmentScoreForCodeTest.csv\")\n",
    "dump = pd.read_csv(\"UsersDumpForCodeTest.csv\")\n",
    "survey = pd.read_csv(\"UserSurveyResultsForCodeTest.csv\")"
   ]
  },
  {
   "cell_type": "code",
   "execution_count": 2,
   "metadata": {
    "collapsed": false
   },
   "outputs": [
    {
     "data": {
      "text/html": [
       "<div>\n",
       "<table border=\"1\" class=\"dataframe\">\n",
       "  <thead>\n",
       "    <tr style=\"text-align: right;\">\n",
       "      <th></th>\n",
       "      <th>TestID</th>\n",
       "      <th>assessmentname</th>\n",
       "      <th>eventcode</th>\n",
       "      <th>timestamp</th>\n",
       "    </tr>\n",
       "  </thead>\n",
       "  <tbody>\n",
       "    <tr>\n",
       "      <th>0</th>\n",
       "      <td>3602</td>\n",
       "      <td>High Availability, Fault Tolerance, and Scalab...</td>\n",
       "      <td>STRASMNT</td>\n",
       "      <td>2017-07-20 12:30:31.000</td>\n",
       "    </tr>\n",
       "    <tr>\n",
       "      <th>1</th>\n",
       "      <td>3602</td>\n",
       "      <td>High Availability, Fault Tolerance, and Scalab...</td>\n",
       "      <td>VIEWASMTDIAG</td>\n",
       "      <td>2017-07-20 12:30:32.000</td>\n",
       "    </tr>\n",
       "    <tr>\n",
       "      <th>2</th>\n",
       "      <td>3652</td>\n",
       "      <td>High Availability, Fault Tolerance, and Scalab...</td>\n",
       "      <td>STRASMNT</td>\n",
       "      <td>2017-07-20 19:01:25.000</td>\n",
       "    </tr>\n",
       "    <tr>\n",
       "      <th>3</th>\n",
       "      <td>3652</td>\n",
       "      <td>High Availability, Fault Tolerance, and Scalab...</td>\n",
       "      <td>VIEWASMTDIAG</td>\n",
       "      <td>2017-07-20 19:01:25.000</td>\n",
       "    </tr>\n",
       "    <tr>\n",
       "      <th>4</th>\n",
       "      <td>3707</td>\n",
       "      <td>Implement Elastic Beanstalk Solutions</td>\n",
       "      <td>STRASMNT</td>\n",
       "      <td>2017-07-21 00:02:41.000</td>\n",
       "    </tr>\n",
       "  </tbody>\n",
       "</table>\n",
       "</div>"
      ],
      "text/plain": [
       "   TestID                                     assessmentname     eventcode  \\\n",
       "0    3602  High Availability, Fault Tolerance, and Scalab...      STRASMNT   \n",
       "1    3602  High Availability, Fault Tolerance, and Scalab...  VIEWASMTDIAG   \n",
       "2    3652  High Availability, Fault Tolerance, and Scalab...      STRASMNT   \n",
       "3    3652  High Availability, Fault Tolerance, and Scalab...  VIEWASMTDIAG   \n",
       "4    3707              Implement Elastic Beanstalk Solutions      STRASMNT   \n",
       "\n",
       "                 timestamp  \n",
       "0  2017-07-20 12:30:31.000  \n",
       "1  2017-07-20 12:30:32.000  \n",
       "2  2017-07-20 19:01:25.000  \n",
       "3  2017-07-20 19:01:25.000  \n",
       "4  2017-07-21 00:02:41.000  "
      ]
     },
     "execution_count": 2,
     "metadata": {},
     "output_type": "execute_result"
    }
   ],
   "source": [
    "# peak at events\n",
    "events.head()"
   ]
  },
  {
   "cell_type": "code",
   "execution_count": 3,
   "metadata": {
    "collapsed": false
   },
   "outputs": [
    {
     "data": {
      "text/html": [
       "<div>\n",
       "<table border=\"1\" class=\"dataframe\">\n",
       "  <thead>\n",
       "    <tr style=\"text-align: right;\">\n",
       "      <th></th>\n",
       "      <th>TestId</th>\n",
       "      <th>UserId</th>\n",
       "      <th>assessment_name</th>\n",
       "      <th>score</th>\n",
       "    </tr>\n",
       "  </thead>\n",
       "  <tbody>\n",
       "    <tr>\n",
       "      <th>0</th>\n",
       "      <td>3451</td>\n",
       "      <td>1824</td>\n",
       "      <td>High Availability, Fault Tolerance, and Scalab...</td>\n",
       "      <td>6.580000</td>\n",
       "    </tr>\n",
       "    <tr>\n",
       "      <th>1</th>\n",
       "      <td>3453</td>\n",
       "      <td>1825</td>\n",
       "      <td>High Availability, Fault Tolerance, and Scalab...</td>\n",
       "      <td>0.000000</td>\n",
       "    </tr>\n",
       "    <tr>\n",
       "      <th>2</th>\n",
       "      <td>3450</td>\n",
       "      <td>1823</td>\n",
       "      <td>High Availability, Fault Tolerance, and Scalab...</td>\n",
       "      <td>73.699997</td>\n",
       "    </tr>\n",
       "    <tr>\n",
       "      <th>3</th>\n",
       "      <td>3454</td>\n",
       "      <td>1826</td>\n",
       "      <td>High Availability, Fault Tolerance, and Scalab...</td>\n",
       "      <td>95.209999</td>\n",
       "    </tr>\n",
       "    <tr>\n",
       "      <th>4</th>\n",
       "      <td>3457</td>\n",
       "      <td>1826</td>\n",
       "      <td>VPC and VPC Networking</td>\n",
       "      <td>100.000000</td>\n",
       "    </tr>\n",
       "  </tbody>\n",
       "</table>\n",
       "</div>"
      ],
      "text/plain": [
       "   TestId  UserId                                    assessment_name  \\\n",
       "0    3451    1824  High Availability, Fault Tolerance, and Scalab...   \n",
       "1    3453    1825  High Availability, Fault Tolerance, and Scalab...   \n",
       "2    3450    1823  High Availability, Fault Tolerance, and Scalab...   \n",
       "3    3454    1826  High Availability, Fault Tolerance, and Scalab...   \n",
       "4    3457    1826                             VPC and VPC Networking   \n",
       "\n",
       "        score  \n",
       "0    6.580000  \n",
       "1    0.000000  \n",
       "2   73.699997  \n",
       "3   95.209999  \n",
       "4  100.000000  "
      ]
     },
     "execution_count": 3,
     "metadata": {},
     "output_type": "execute_result"
    }
   ],
   "source": [
    "# peak at score\n",
    "score.head()"
   ]
  },
  {
   "cell_type": "code",
   "execution_count": 4,
   "metadata": {
    "collapsed": false,
    "scrolled": true
   },
   "outputs": [
    {
     "data": {
      "text/html": [
       "<div>\n",
       "<table border=\"1\" class=\"dataframe\">\n",
       "  <thead>\n",
       "    <tr style=\"text-align: right;\">\n",
       "      <th></th>\n",
       "      <th>TestID</th>\n",
       "      <th>question</th>\n",
       "      <th>answer</th>\n",
       "    </tr>\n",
       "  </thead>\n",
       "  <tbody>\n",
       "    <tr>\n",
       "      <th>0</th>\n",
       "      <td>3527</td>\n",
       "      <td>Please rate this assessment from one to five, ...</td>\n",
       "      <td>5</td>\n",
       "    </tr>\n",
       "    <tr>\n",
       "      <th>1</th>\n",
       "      <td>3527</td>\n",
       "      <td>What did you love about Cloud Assessments and ...</td>\n",
       "      <td>i would love to see my skills</td>\n",
       "    </tr>\n",
       "    <tr>\n",
       "      <th>2</th>\n",
       "      <td>3527</td>\n",
       "      <td>Why did you rate it the way you did?</td>\n",
       "      <td>8</td>\n",
       "    </tr>\n",
       "    <tr>\n",
       "      <th>3</th>\n",
       "      <td>3527</td>\n",
       "      <td>Did you understand what was expected of you (w...</td>\n",
       "      <td>yes</td>\n",
       "    </tr>\n",
       "    <tr>\n",
       "      <th>4</th>\n",
       "      <td>3527</td>\n",
       "      <td>Was the skill level appropriate for what we de...</td>\n",
       "      <td>9</td>\n",
       "    </tr>\n",
       "  </tbody>\n",
       "</table>\n",
       "</div>"
      ],
      "text/plain": [
       "   TestID                                           question  \\\n",
       "0    3527  Please rate this assessment from one to five, ...   \n",
       "1    3527  What did you love about Cloud Assessments and ...   \n",
       "2    3527               Why did you rate it the way you did?   \n",
       "3    3527  Did you understand what was expected of you (w...   \n",
       "4    3527  Was the skill level appropriate for what we de...   \n",
       "\n",
       "                          answer  \n",
       "0                              5  \n",
       "1  i would love to see my skills  \n",
       "2                              8  \n",
       "3                            yes  \n",
       "4                              9  "
      ]
     },
     "execution_count": 4,
     "metadata": {},
     "output_type": "execute_result"
    }
   ],
   "source": [
    "# peak at survey\n",
    "survey.head()"
   ]
  },
  {
   "cell_type": "code",
   "execution_count": 5,
   "metadata": {
    "collapsed": false
   },
   "outputs": [
    {
     "data": {
      "text/html": [
       "<div>\n",
       "<table border=\"1\" class=\"dataframe\">\n",
       "  <thead>\n",
       "    <tr style=\"text-align: right;\">\n",
       "      <th></th>\n",
       "      <th>UserId</th>\n",
       "      <th>country</th>\n",
       "      <th>certifications</th>\n",
       "    </tr>\n",
       "  </thead>\n",
       "  <tbody>\n",
       "    <tr>\n",
       "      <th>0</th>\n",
       "      <td>1</td>\n",
       "      <td>No Value Provided</td>\n",
       "      <td>[]</td>\n",
       "    </tr>\n",
       "    <tr>\n",
       "      <th>1</th>\n",
       "      <td>1011</td>\n",
       "      <td>Texas Republic</td>\n",
       "      <td>[\"aws_developer\", \"aws_devops_engineer\"]</td>\n",
       "    </tr>\n",
       "    <tr>\n",
       "      <th>2</th>\n",
       "      <td>1009</td>\n",
       "      <td>United States</td>\n",
       "      <td>[\"aws_developer\"]</td>\n",
       "    </tr>\n",
       "    <tr>\n",
       "      <th>3</th>\n",
       "      <td>1016</td>\n",
       "      <td>United States</td>\n",
       "      <td>[\"aws_developer\"]</td>\n",
       "    </tr>\n",
       "    <tr>\n",
       "      <th>4</th>\n",
       "      <td>1024</td>\n",
       "      <td>No Value Provided</td>\n",
       "      <td>[]</td>\n",
       "    </tr>\n",
       "  </tbody>\n",
       "</table>\n",
       "</div>"
      ],
      "text/plain": [
       "   UserId            country                            certifications\n",
       "0       1  No Value Provided                                        []\n",
       "1    1011     Texas Republic  [\"aws_developer\", \"aws_devops_engineer\"]\n",
       "2    1009      United States                         [\"aws_developer\"]\n",
       "3    1016      United States                         [\"aws_developer\"]\n",
       "4    1024  No Value Provided                                        []"
      ]
     },
     "execution_count": 5,
     "metadata": {},
     "output_type": "execute_result"
    }
   ],
   "source": [
    "# peak at dump\n",
    "dump.head()"
   ]
  },
  {
   "cell_type": "code",
   "execution_count": 6,
   "metadata": {
    "collapsed": false
   },
   "outputs": [],
   "source": [
    "score = score.dropna() # drops null values in the score df and reassigns it to score"
   ]
  },
  {
   "cell_type": "markdown",
   "metadata": {},
   "source": [
    "## To start off, we'll perform the following:\n",
    "\n",
    "<ol>\n",
    "<li> Filter the existing 'score' df to see how many users scored within a certain range across all assessments.</li>\n",
    "<li> Calculate the percentage of people of made a score within a given range out of all the scores.</li>\n",
    "</ol>"
   ]
  },
  {
   "cell_type": "code",
   "execution_count": 7,
   "metadata": {
    "collapsed": false,
    "scrolled": true
   },
   "outputs": [
    {
     "data": {
      "text/plain": [
       "245"
      ]
     },
     "execution_count": 7,
     "metadata": {},
     "output_type": "execute_result"
    }
   ],
   "source": [
    "score_0 = score[score[\"score\"] == 0]\n",
    "\n",
    "score_0.shape[0]"
   ]
  },
  {
   "cell_type": "code",
   "execution_count": 8,
   "metadata": {
    "collapsed": false
   },
   "outputs": [
    {
     "data": {
      "text/plain": [
       "0.4246100519930676"
      ]
     },
     "execution_count": 8,
     "metadata": {},
     "output_type": "execute_result"
    }
   ],
   "source": [
    "score_0.shape[0] / score.shape[0]"
   ]
  },
  {
   "cell_type": "code",
   "execution_count": 9,
   "metadata": {
    "collapsed": false,
    "scrolled": true
   },
   "outputs": [
    {
     "data": {
      "text/plain": [
       "90"
      ]
     },
     "execution_count": 9,
     "metadata": {},
     "output_type": "execute_result"
    }
   ],
   "source": [
    "score_l50 = score[(score[\"score\"] < 50) & (score[\"score\"] > 0)]  \n",
    "\n",
    "score_l50.shape[0]"
   ]
  },
  {
   "cell_type": "code",
   "execution_count": 10,
   "metadata": {
    "collapsed": false
   },
   "outputs": [
    {
     "data": {
      "text/plain": [
       "0.1559792027729636"
      ]
     },
     "execution_count": 10,
     "metadata": {},
     "output_type": "execute_result"
    }
   ],
   "source": [
    "score_l50.shape[0] / score.shape[0]"
   ]
  },
  {
   "cell_type": "code",
   "execution_count": 11,
   "metadata": {
    "collapsed": false
   },
   "outputs": [
    {
     "data": {
      "text/plain": [
       "52"
      ]
     },
     "execution_count": 11,
     "metadata": {},
     "output_type": "execute_result"
    }
   ],
   "source": [
    "score_fs = score[(score[\"score\"] < 70) & (score[\"score\"] >= 50)]\n",
    "\n",
    "score_fs.shape[0]"
   ]
  },
  {
   "cell_type": "code",
   "execution_count": 12,
   "metadata": {
    "collapsed": false
   },
   "outputs": [
    {
     "data": {
      "text/plain": [
       "0.09012131715771231"
      ]
     },
     "execution_count": 12,
     "metadata": {},
     "output_type": "execute_result"
    }
   ],
   "source": [
    "score_fs.shape[0] / score.shape[0]"
   ]
  },
  {
   "cell_type": "code",
   "execution_count": 13,
   "metadata": {
    "collapsed": false
   },
   "outputs": [
    {
     "data": {
      "text/plain": [
       "32"
      ]
     },
     "execution_count": 13,
     "metadata": {},
     "output_type": "execute_result"
    }
   ],
   "source": [
    "score_c = score[(score[\"score\"] < 80) & (score[\"score\"] >= 70)]\n",
    "\n",
    "score_c.shape[0]"
   ]
  },
  {
   "cell_type": "code",
   "execution_count": 14,
   "metadata": {
    "collapsed": false
   },
   "outputs": [
    {
     "data": {
      "text/plain": [
       "0.05545927209705372"
      ]
     },
     "execution_count": 14,
     "metadata": {},
     "output_type": "execute_result"
    }
   ],
   "source": [
    "score_c.shape[0] / score.shape[0]"
   ]
  },
  {
   "cell_type": "code",
   "execution_count": 15,
   "metadata": {
    "collapsed": false
   },
   "outputs": [
    {
     "data": {
      "text/plain": [
       "32"
      ]
     },
     "execution_count": 15,
     "metadata": {},
     "output_type": "execute_result"
    }
   ],
   "source": [
    "score_b = score[(score[\"score\"] < 90) & (score[\"score\"] >= 80)]\n",
    "\n",
    "score_b.shape[0]"
   ]
  },
  {
   "cell_type": "code",
   "execution_count": 16,
   "metadata": {
    "collapsed": false
   },
   "outputs": [
    {
     "data": {
      "text/plain": [
       "0.05545927209705372"
      ]
     },
     "execution_count": 16,
     "metadata": {},
     "output_type": "execute_result"
    }
   ],
   "source": [
    "score_b.shape[0] / score.shape[0]"
   ]
  },
  {
   "cell_type": "code",
   "execution_count": 17,
   "metadata": {
    "collapsed": false
   },
   "outputs": [
    {
     "data": {
      "text/plain": [
       "50"
      ]
     },
     "execution_count": 17,
     "metadata": {},
     "output_type": "execute_result"
    }
   ],
   "source": [
    "score_a = score[(score[\"score\"] < 100) & (score[\"score\"] >= 90)]\n",
    "\n",
    "score_a.shape[0]"
   ]
  },
  {
   "cell_type": "code",
   "execution_count": 18,
   "metadata": {
    "collapsed": false
   },
   "outputs": [
    {
     "data": {
      "text/plain": [
       "0.08665511265164645"
      ]
     },
     "execution_count": 18,
     "metadata": {},
     "output_type": "execute_result"
    }
   ],
   "source": [
    "score_a.shape[0] / score.shape[0]"
   ]
  },
  {
   "cell_type": "code",
   "execution_count": 19,
   "metadata": {
    "collapsed": false
   },
   "outputs": [
    {
     "data": {
      "text/plain": [
       "76"
      ]
     },
     "execution_count": 19,
     "metadata": {},
     "output_type": "execute_result"
    }
   ],
   "source": [
    "score_100 = score[score[\"score\"] == 100]\n",
    "\n",
    "score_100.shape[0]"
   ]
  },
  {
   "cell_type": "code",
   "execution_count": 20,
   "metadata": {
    "collapsed": false
   },
   "outputs": [
    {
     "data": {
      "text/plain": [
       "0.1317157712305026"
      ]
     },
     "execution_count": 20,
     "metadata": {},
     "output_type": "execute_result"
    }
   ],
   "source": [
    "score_100.shape[0] / score.shape[0]"
   ]
  },
  {
   "cell_type": "markdown",
   "metadata": {},
   "source": [
    "From the above, we see the following:\n",
    "<ul>\n",
    "<li> 245 (~42.5%) people made a score of zero</li>\n",
    "<li> 90 (~15.6%) people made a score between 0 and 50</li>\n",
    "<li> 52 (~9%) people made a score between 50 and 70</li>\n",
    "<li> 32 (~5.5%) people made a score between 70 and 80</li>\n",
    "<li> 32 (~5.5%) people made a score between 80 and 90</li>\n",
    "<li> 50 (~8.7%) people made a score between 90 and 100</li>\n",
    "<li> 76 (~13.2%) people made a score of 100</li>\n",
    "</ul>\n",
    "\n",
    "It's certainly alarming that almost half of the people made a score of zero across all assessments. \n",
    "\n",
    "Assuming the pass/no pass cutoff point is 80%, it is also alarming that the number of people who made a zero is greater than the number who pass the assessment. "
   ]
  },
  {
   "cell_type": "markdown",
   "metadata": {},
   "source": [
    "# We'll perform the following steps for some explatory statistics\n",
    "<ol>\n",
    "<li> Create a Box and Whisker Plot that describes the assessment scores located in the `score` dataframe </li>\n",
    "<li> Calculate some additional explatory statistics beyond what the Box and Whisker Plot shows </li>\n",
    "</ol>"
   ]
  },
  {
   "cell_type": "code",
   "execution_count": 21,
   "metadata": {
    "collapsed": false
   },
   "outputs": [
    {
     "data": {
      "text/plain": [
       "<matplotlib.axes._subplots.AxesSubplot at 0x1143a9a90>"
      ]
     },
     "execution_count": 21,
     "metadata": {},
     "output_type": "execute_result"
    },
    {
     "data": {
      "image/png": "[encoded data removed]",
      "text/plain": [
       "<matplotlib.figure.Figure at 0x114ef16a0>"
      ]
     },
     "metadata": {},
     "output_type": "display_data"
    }
   ],
   "source": [
    "sns.boxplot(score[\"score\"])"
   ]
  },
  {
   "cell_type": "code",
   "execution_count": 22,
   "metadata": {
    "collapsed": false
   },
   "outputs": [
    {
     "name": "stdout",
     "output_type": "stream",
     "text": [
      "The mean score is 40.00133433686482\n",
      "The median score is 26.67000008\n",
      "The maximum score is 100.0\n",
      "The minimum score is 0.0\n",
      "The variance between the scores is 1688.141559245361\n",
      "The standard deviation of the squres is 41.086999881292876\n",
      "The Third Quartile is 84.63999939\n",
      "The First Quartile is 0.0\n",
      "The Interquartile Range is 84.63999939\n",
      "The outliers are below -126.95999908499999\n",
      "The extreme outliers are below -253.91999816999999\n",
      "The outliers are above 211.599998475\n",
      "The extreme outliers are above 338.55999756\n"
     ]
    }
   ],
   "source": [
    "var = score[\"score\"].var()\n",
    "std = score[\"score\"].std()\n",
    "mean = score[\"score\"].mean()\n",
    "med = score[\"score\"].median()\n",
    "max = score[\"score\"].max()\n",
    "min = score[\"score\"].min()\n",
    "Q3 = np.percentile(score[\"score\"], 75)\n",
    "Q1 = np.percentile(score[\"score\"], 25)\n",
    "IQR = Q3 - Q1\n",
    "Q1O = Q1 - 1.5 * IQR \n",
    "Q1EO = Q1 - 3 * IQR\n",
    "Q3O = Q3 + 1.5 * IQR\n",
    "Q3EO = Q3 + 3 * IQR\n",
    "\n",
    "print(\"The mean score is {}\".format(mean))\n",
    "print(\"The median score is {}\".format(med))\n",
    "print(\"The maximum score is {}\".format(max))\n",
    "print(\"The minimum score is {}\".format(min))\n",
    "print(\"The variance between the scores is {}\".format(var))\n",
    "print(\"The standard deviation of the squres is {}\".format(std))\n",
    "print(\"The Third Quartile is {}\".format(Q3))\n",
    "print(\"The First Quartile is {}\".format(Q1))\n",
    "print(\"The Interquartile Range is {}\".format(IQR))\n",
    "print(\"The outliers are below {}\".format(Q1O))\n",
    "print(\"The extreme outliers are below {}\".format(Q1EO))\n",
    "print(\"The outliers are above {}\".format(Q3O))\n",
    "print(\"The extreme outliers are above {}\".format(Q3EO))"
   ]
  },
  {
   "cell_type": "markdown",
   "metadata": {},
   "source": [
    "Considering we are observing assessment scores, negative values and values above 100 doesn't make any sense. That said, for all intents and purposes, there are no outliers of any kind. \n",
    "\n",
    "Remembering the fact that almost half of observations have a score of 0, it is not surprising the first quartile is 0."
   ]
  },
  {
   "cell_type": "markdown",
   "metadata": {},
   "source": [
    "## Next we'll work on the `survey` dataframe by:\n",
    "<ol> \n",
    "<li>Inspect the `question` column to return an array with all of the unique questions in the column.</li>\n",
    "<li>Filter the dataframe to return rows that contain the string regarding the likelihood the user will recommend the assessment to friends.</li>\n",
    "</ol>"
   ]
  },
  {
   "cell_type": "code",
   "execution_count": 23,
   "metadata": {
    "collapsed": false
   },
   "outputs": [
    {
     "data": {
      "text/plain": [
       "array(['Please rate this assessment from one to five, five being the highest',\n",
       "       'What did you love about Cloud Assessments and this assessment in particular?',\n",
       "       'Why did you rate it the way you did?',\n",
       "       'Did you understand what was expected of you (was the scenario clear)?',\n",
       "       'Was the skill level appropriate for what we described?',\n",
       "       'On a scale of one to ten, how likely are you to recommend this to your friends?',\n",
       "       'Do you have any specific suggestions for improvements?',\n",
       "       'What additional features would you like to see?',\n",
       "       'What other types of assessments would you like to see?',\n",
       "       'Would you be interested in a verified micro certification?'], dtype=object)"
      ]
     },
     "execution_count": 23,
     "metadata": {},
     "output_type": "execute_result"
    }
   ],
   "source": [
    "pd.unique(survey[\"question\"])"
   ]
  },
  {
   "cell_type": "code",
   "execution_count": 24,
   "metadata": {
    "collapsed": false
   },
   "outputs": [],
   "source": [
    "recommend = survey[survey.question.str.contains('On a scale of one to ten, how likely are you to recommend this to your friends?')].copy()"
   ]
  },
  {
   "cell_type": "code",
   "execution_count": 25,
   "metadata": {
    "collapsed": false
   },
   "outputs": [
    {
     "data": {
      "text/html": [
       "<div>\n",
       "<table border=\"1\" class=\"dataframe\">\n",
       "  <thead>\n",
       "    <tr style=\"text-align: right;\">\n",
       "      <th></th>\n",
       "      <th>TestID</th>\n",
       "      <th>question</th>\n",
       "      <th>answer</th>\n",
       "    </tr>\n",
       "  </thead>\n",
       "  <tbody>\n",
       "    <tr>\n",
       "      <th>5</th>\n",
       "      <td>3527</td>\n",
       "      <td>On a scale of one to ten, how likely are you t...</td>\n",
       "      <td>10</td>\n",
       "    </tr>\n",
       "    <tr>\n",
       "      <th>15</th>\n",
       "      <td>3527</td>\n",
       "      <td>On a scale of one to ten, how likely are you t...</td>\n",
       "      <td>10</td>\n",
       "    </tr>\n",
       "    <tr>\n",
       "      <th>25</th>\n",
       "      <td>3527</td>\n",
       "      <td>On a scale of one to ten, how likely are you t...</td>\n",
       "      <td>10</td>\n",
       "    </tr>\n",
       "    <tr>\n",
       "      <th>35</th>\n",
       "      <td>3522</td>\n",
       "      <td>On a scale of one to ten, how likely are you t...</td>\n",
       "      <td>10</td>\n",
       "    </tr>\n",
       "    <tr>\n",
       "      <th>45</th>\n",
       "      <td>3521</td>\n",
       "      <td>On a scale of one to ten, how likely are you t...</td>\n",
       "      <td>10</td>\n",
       "    </tr>\n",
       "  </tbody>\n",
       "</table>\n",
       "</div>"
      ],
      "text/plain": [
       "    TestID                                           question answer\n",
       "5     3527  On a scale of one to ten, how likely are you t...     10\n",
       "15    3527  On a scale of one to ten, how likely are you t...     10\n",
       "25    3527  On a scale of one to ten, how likely are you t...     10\n",
       "35    3522  On a scale of one to ten, how likely are you t...     10\n",
       "45    3521  On a scale of one to ten, how likely are you t...     10"
      ]
     },
     "execution_count": 25,
     "metadata": {},
     "output_type": "execute_result"
    }
   ],
   "source": [
    "recommend.head()"
   ]
  },
  {
   "cell_type": "code",
   "execution_count": 26,
   "metadata": {
    "collapsed": false
   },
   "outputs": [
    {
     "data": {
      "text/plain": [
       "TestID       int64\n",
       "question    object\n",
       "answer      object\n",
       "dtype: object"
      ]
     },
     "execution_count": 26,
     "metadata": {},
     "output_type": "execute_result"
    }
   ],
   "source": [
    "recommend.dtypes # Returns the dtypes of a Dataframee"
   ]
  },
  {
   "cell_type": "code",
   "execution_count": 27,
   "metadata": {
    "collapsed": false
   },
   "outputs": [],
   "source": [
    "recommend[\"answer\"] = pd.to_numeric(recommend[\"answer\"]) # Converts the Series to `as_numeric`"
   ]
  },
  {
   "cell_type": "code",
   "execution_count": 28,
   "metadata": {
    "collapsed": false
   },
   "outputs": [
    {
     "data": {
      "text/plain": [
       "TestID       int64\n",
       "question    object\n",
       "answer       int64\n",
       "dtype: object"
      ]
     },
     "execution_count": 28,
     "metadata": {},
     "output_type": "execute_result"
    }
   ],
   "source": [
    "recommend.dtypes # Making sure I'm not crazy"
   ]
  },
  {
   "cell_type": "code",
   "execution_count": 29,
   "metadata": {
    "collapsed": false
   },
   "outputs": [],
   "source": [
    "perec = recommend[recommend[\"answer\"] == 10].shape[0]\n",
    "perecp = round(perec / recommend.shape[0] * 100, 2)\n",
    "\n",
    "rec9 = recommend[recommend[\"answer\"] == 9].shape[0]\n",
    "rec9p = round(rec9 / recommend.shape[0] * 100, 2)\n",
    "\n",
    "rec8 = recommend[recommend[\"answer\"] == 8].shape[0]\n",
    "rec8p = round(rec8 / recommend.shape[0] * 100, 2)\n",
    "\n",
    "rec7 = recommend[recommend[\"answer\"] == 7].shape[0]\n",
    "rec7p = round(rec7 / recommend.shape[0] * 100, 2)\n",
    "\n",
    "rec6 = recommend[recommend[\"answer\"] == 6].shape[0]\n",
    "rec6p = round(rec6 / recommend.shape[0] * 100, 2)\n",
    "\n",
    "rec5 = recommend[recommend[\"answer\"] == 5].shape[0]\n",
    "rec5p = round(rec5 / recommend.shape[0] * 100, 2)\n",
    "\n",
    "rec4 = recommend[recommend[\"answer\"] == 4].shape[0]\n",
    "rec4p = round(rec4 / recommend.shape[0] * 100, 2)\n",
    "\n",
    "rec3 = recommend[recommend[\"answer\"] == 3].shape[0]\n",
    "rec3p = round(rec3 / recommend.shape[0] * 100, 2)\n",
    "\n",
    "rec2 = recommend[recommend[\"answer\"] == 2].shape[0]\n",
    "rec2p = round(rec2 / recommend.shape[0] * 100, 2)\n",
    "\n",
    "rec1 = recommend[recommend[\"answer\"] == 1].shape[0]\n",
    "rec1p = round(rec1 / recommend.shape[0] * 100, 2)"
   ]
  },
  {
   "cell_type": "code",
   "execution_count": 30,
   "metadata": {
    "collapsed": false
   },
   "outputs": [],
   "source": [
    "scale = [x for x in range(1,11)]\n",
    "recscale = [rec1, rec2, rec3, rec4, rec5, rec6, rec7, rec8, rec9, perec]"
   ]
  },
  {
   "cell_type": "code",
   "execution_count": 72,
   "metadata": {
    "collapsed": false
   },
   "outputs": [
    {
     "data": {
      "image/png": "[encoded data removed]",
      "text/plain": [
       "<matplotlib.figure.Figure at 0x11783f2e8>"
      ]
     },
     "metadata": {},
     "output_type": "display_data"
    }
   ],
   "source": [
    "plt.bar(scale, recscale)\n",
    "plt.title(\"Number of people by likelihood\", weight = 'bold', fontsize = 15)\n",
    "plt.xlabel(\"Recommendation Likelihood\")\n",
    "plt.ylabel(\"Number of People\")\n",
    "plt.grid(False)"
   ]
  },
  {
   "cell_type": "code",
   "execution_count": 32,
   "metadata": {
    "collapsed": false
   },
   "outputs": [
    {
     "name": "stdout",
     "output_type": "stream",
     "text": [
      "The number people who are extremely likely to recommend this to a friend is 120 (80.54)\n",
      "The number people who are most likely to recommend this to a friend is 11 (7.38%)\n",
      "The number people who are really likely to recommend this to a friend is 4 (2.68%)\n",
      "The number people who are kind of likely to recommend this to a friend is 2 (1.34%)\n",
      "The number people who maybe recommend this to a friend is 1 (0.67%)\n",
      "The number people who are indifferent to recommend this to a friend is 2 (1.34%)\n",
      "The number people who are hesitant to recommend this to a friend is 0 (0.0%)\n",
      "The number people who are most likely not to recommend this to a friend is 0 (0.0%)\n",
      "The number people who are extremely not likely recommend this to a friend is 1 (0.67%)\n",
      "The number people who are would not recommend this to a friend is 8 (5.37%)\n"
     ]
    }
   ],
   "source": [
    "print(\"The number people who are extremely likely to recommend this to a friend is {} ({}%)\".format(perec, perecp))\n",
    "\n",
    "print(\"The number people who are most likely to recommend this to a friend is {} ({}%)\".format(rec9, rec9p))\n",
    "\n",
    "print(\"The number people who are really likely to recommend this to a friend is {} ({}%)\".format(rec8, rec8p))\n",
    "\n",
    "print(\"The number people who are kind of likely to recommend this to a friend is {} ({}%)\".format(rec7, rec7p))\n",
    "\n",
    "print(\"The number people who maybe recommend this to a friend is {} ({}%)\".format(rec6, rec6p))\n",
    "\n",
    "print(\"The number people who are indifferent to recommend this to a friend is {} ({}%)\".format(rec5, rec5p))\n",
    "\n",
    "print(\"The number people who are hesitant to recommend this to a friend is {} ({}%)\".format(rec4, rec4p))\n",
    "\n",
    "print(\"The number people who are most likely not to recommend this to a friend is {} ({}%)\".format(rec3, rec3p))\n",
    "\n",
    "print(\"The number people who are extremely not likely recommend this to a friend is {} ({}%)\".format(rec2, rec2p))\n",
    "\n",
    "print(\"The number people who are would not recommend this to a friend is {} ({}%)\".format(rec1, rec1p))"
   ]
  },
  {
   "cell_type": "markdown",
   "metadata": {},
   "source": [
    "### Next, we'll inspect the `dump` dataframe and the unique values in the country column"
   ]
  },
  {
   "cell_type": "code",
   "execution_count": 33,
   "metadata": {
    "collapsed": false
   },
   "outputs": [
    {
     "data": {
      "text/plain": [
       "array(['No Value Provided', 'Texas Republic', 'United States', 'USA', 'US',\n",
       "       'united states', 'Ireland', 'Ukraine', 'United Kingdom', 'Canada',\n",
       "       'India', 'Estados Unidos', 'Venezuela', 'venezuela', 'Mexico',\n",
       "       'France', 'England', 'Spain', 'United States of America', 'Brazil',\n",
       "       'Colombia', 'Romania', 'Argentina', 'Australia', 'UK',\n",
       "       'Philippines', 'New Zealand', 'Vietnam', 'australia', 'Italia',\n",
       "       'NIGERIA', 'Russia', 'Poland', 'Israel', 'Netherlands', 'Paraguay',\n",
       "       'Croatia', 'Indonesia', 'Taiwan', 'usa', 'uk', 'Scotland',\n",
       "       'South Africa', 'Kenya', 'Germany', 'Japan', 'USA ', 'Usa', 'japan',\n",
       "       'UAE', 'INDIA', 'the Netherlands', 'Netherlands ', 'Switzerland',\n",
       "       'Austria ', 'Russian Federation', 'Bulgaria', 'Nederland',\n",
       "       ' Ireland', 'Denmark', 'Saudi Arabia', 'Cyprus', 'Ind', 'Sweden',\n",
       "       'Canda', 'Arlington', 'Harris', 'Unisted States', 'Sri Lanka',\n",
       "       'London', 'Belgium', 'Singapore', 'Bahrain', 'Bosnia', 'Austrsalia',\n",
       "       'Malaysia', 'Slovakia', 'Suomi', 'China', 'Unkted Kingdom',\n",
       "       'Guatemala', 'Deutschland', 'italy', 'united kingdom', 'k', 'india',\n",
       "       'Peru', 'Uk', 'Ecuador', 'Lithuania', 'Saudi Arabi', 'Morocco',\n",
       "       'Cambodia', 'Serbia', 'Moldova', 'United Arab Emirates', 'Nepal',\n",
       "       'Chile', 'Hong Kong SAR, China', 'Lebanon', 'united state',\n",
       "       'MYANMAR', 'Italy', 'U.S.A.', 'Pakistan', 'Bangladesh', 'asdfasdf',\n",
       "       'Jordan', 'Nigeria', 'Belarus', 'Brasil', 'Egypt', 'Kiev',\n",
       "       'Albania', 'france', 'Bosnia and Herzegovina', 'Austria', 'Norway',\n",
       "       'Espa̱a', 'asdf', 'Turkey', 'Greece', 'PK', 'PAKISTAN', 'germany',\n",
       "       'Costa Rica', 'Finland', 'sambalpur', 'Timor Leste', 'Pune',\n",
       "       'mexico', 'Ie', 'aaa', 'Senegal', 'United Kindom', 'us', 'Viet Nam',\n",
       "       'Belgique', 'Solomon Islands', 'Midlothian', 'CANADA', 'IND',\n",
       "       'india ', 'Macao', 'United states', 'Oman', 'egypt', 'MEXICO ', 'u',\n",
       "       'Portugal', 'Trinidad and Tobago'], dtype=object)"
      ]
     },
     "execution_count": 33,
     "metadata": {},
     "output_type": "execute_result"
    }
   ],
   "source": [
    "pd.unique(dump[\"country\"])"
   ]
  },
  {
   "cell_type": "markdown",
   "metadata": {},
   "source": [
    "### Using the unique values, we'll create a mapping dictionary to clean the `country` column"
   ]
  },
  {
   "cell_type": "code",
   "execution_count": 34,
   "metadata": {
    "collapsed": false
   },
   "outputs": [],
   "source": [
    "coumap = {\n",
    "    \"Texas Republic\" : \"Texas\",\n",
    "    \"USA\" : \"United States\",\n",
    "    \"US\" : \"United States\",\n",
    "    \"united states\" : \"United States\",\n",
    "    \"No Value Provided\" : np.nan,\n",
    "    \"Texas Republic\" : \"United States\",\n",
    "    \"United States\" : \"United States\",\n",
    "    \"Ireland\" : \"Ireland\", \n",
    "    \"Ukraine\" : \"Ukraine\", \n",
    "    \"United Kingdom\" : \"United Kingdom\", \n",
    "    \"Canada\" : \"Canada\",\n",
    "    \"India\" : \"India\", \n",
    "    \"Estados Unidos\" : \"United States\", \n",
    "    \"Venezuela\" : \"Venezuela\", \n",
    "    \"venezuela\": \"Venezuela\", \n",
    "    \"Mexico\" : \"Mexico\",\n",
    "    \"France\" : \"France\", \n",
    "    \"England\" : \"England\", \n",
    "    'Spain' : \"Spain\", \n",
    "    'United States of America' : \"United States\", \n",
    "    'Brazil' : \"Brzail\",\n",
    "    'Colombia' : \"Columbia\", \n",
    "    'Romania' : \"Romania\", \n",
    "    'Argentina' : \"Argentina\", \n",
    "    'Australia' : \"Austrailia\", \n",
    "    'UK' : \"United Kingdom\",\n",
    "    'Philippines' : \"Philippines\",\n",
    "    'New Zealand' : \"New Zealand\",\n",
    "    'Vietnam' : \"Vietnam\",\n",
    "    'australia' : \"Austrailia\",\n",
    "    'Italia' : \"Italy\",\n",
    "    'NIGERIA' : \"Nigeria\",\n",
    "    'Russia' : \"Russia\",\n",
    "    'Poland' : \"Poland\",\n",
    "    'Israel' : \"Israel\",\n",
    "    'Netherlands' : \"Netherlands\",\n",
    "    'Paraguay' : \"Paraguay\",\n",
    "    'Croatia' : \"Croatia\",\n",
    "    'Indonesia' : \"Indonesia\",\n",
    "    'Taiwan' : \"Taiwan\", \n",
    "    'usa' : \"United States\", \n",
    "    'uk' : \"United Kingdom\", \n",
    "    'Scotland' : \"Scotland\",\n",
    "    'South Africa' : \"South Africa\",\n",
    "    'Kenya' : \"Kenya\",\n",
    "    'Germany' : \"Germany\",\n",
    "    'Japan' : \"Japan\",\n",
    "    'USA ': \"United States\",\n",
    "    'Usa' : \"United States\",\n",
    "    'japan' : \"Japan\",\n",
    "    'UAE' : \"United Arab Emirates\",\n",
    "    'INDIA' : \"India\",\n",
    "    'the Netherlands' : \"Netherlands\",\n",
    "    'Netherlands ' : \"Netherlands\",\n",
    "    'Switzerland' : \"Switzerland\",\n",
    "    'Austria ' : \"Austria\",\n",
    "    'Russian Federation' : \"Russia\",\n",
    "    'Bulgaria' : \"Bulgaria\",\n",
    "    'Nederland' : \"Netherlands\",\n",
    "    ' Ireland' : \"Ireland\",\n",
    "    'Denmark' : \"Denmark\",\n",
    "    'Saudi Arabia' : \"Saudi Arabia\",\n",
    "    'Cyprus' : \"Cyprus\",\n",
    "    'Ind' : \"India\", \n",
    "    'Sweden' : \"Sweeden\",\n",
    "    'Canda' : \"Canada\",\n",
    "    'Arlington' : \"United States\",\n",
    "    'Harris' : \"United States\",\n",
    "    'Unisted States' : \"United States\", \n",
    "    'Sri Lanka' : \"Sri Lanka\",\n",
    "    'London' : \"London\",\n",
    "    'Belgium' : \"Belgium\",\n",
    "    'Singapore' : \"Singapore\",\n",
    "    'Bahrain' : \"Bahrain\",\n",
    "    'Bosnia': \"Bosnia and Herzegovina\",\n",
    "    'Austrsalia' : \"Austrailia\",\n",
    "    'Malaysia' : \"Malaysis\",\n",
    "    'Slovakia' : \"Slovakia\",\n",
    "    'Suomi' : \"Finland\",\n",
    "    'China' : \"China\",\n",
    "    'Unkted Kingdom' : \"United Kingdom\",\n",
    "    'Guatemala' : \"Guatemala\",\n",
    "    'Deutschland' : \"Germany\",\n",
    "    'italy' : \"Italy\",\n",
    "    'united kingdom' : \"United Kingdom\",\n",
    "    'k' : np.nan,\n",
    "    'india' : \"India\",\n",
    "    'Peru' : \"Peru\", \n",
    "    'Uk' : \"United Kingdom\",\n",
    "    'Ecuador' : \"Ecuador\",\n",
    "    'Lithuania' : \"Lithuania\",\n",
    "    'Saudi Arabi' : \"Saudi Arabia\",\n",
    "    'Morocco' : \"Morocco\",\n",
    "    'Cambodia' : \"Cambodia\",\n",
    "    'Serbia' : \"Serbia\",\n",
    "    'Moldova' : \"Moldova\",\n",
    "    'United Arab Emirates' : \"United Arab Emirates\",\n",
    "    'Nepal' : \"Nepal\",\n",
    "    'Chile' : \"Chile\",\n",
    "    'Hong Kong SAR, China' : \"China\",\n",
    "    'Lebanon' : \"Lebanon\", \n",
    "    'united state' : \"United States\",\n",
    "    'MYANMAR' : \"Myanmar\", \n",
    "    'Italy' : \"Italy\", \n",
    "    'U.S.A.' : \"United States\", \n",
    "    'Pakistan' : \"Pakistan\", \n",
    "    'Bangladesh' : \"Bangladesh\", \n",
    "    'asdfasdf' : np.nan,\n",
    "    'Jordan' : \"Jordan\",\n",
    "    'Nigeria' :  \"Nigeria\", \n",
    "    'Belarus' : \"Belarus\", \n",
    "    'Brasil' : \"Brazil\", \n",
    "    'Egypt' : \"Egypt\", \n",
    "    'Kiev' : \"Ukraine\",\n",
    "    'Albania' : \"Albania\", \n",
    "    'france' : \"France\", \n",
    "    'Bosnia and Herzegovina' : \"Bosnia and Herzegovina\", \n",
    "    'Austria' : \"Austria\", \n",
    "    'Norway' : \"Norway\",\n",
    "    'Espa̱a' : \"Spain\", \n",
    "    'asdf' : np.nan, \n",
    "    'Turkey' : \"Turkey\", \n",
    "    'Greece' : \"Greece\", \n",
    "    'PK' : \"Pakistan\", \n",
    "    'PAKISTAN' : \"Pakistan\", \n",
    "    'germany' : \"Germany\",\n",
    "    'Costa Rica' : \"Costa Rica\", \n",
    "    'Finland' : \"Finland\", \n",
    "    'sambalpur' : \"India\", \n",
    "    'Timor Leste' : \"Timor Leste\", \n",
    "    'Pune' : \"India\",\n",
    "    'mexico' : \"Mexico\", \n",
    "    'Ie' : \"Ireland\", \n",
    "    'aaa' : np.nan, \n",
    "    'Senegal' : \"Senegal\", \n",
    "    'United Kindom' : \"United Kingdom\", \n",
    "    'us' : \"United States\", \n",
    "    'Viet Nam' : \"Vietnam\",\n",
    "    'Belgique' : \"Belgium\", \n",
    "    'Solomon Islands' : \"Solomon Islands\",\n",
    "    'Midlothian' : \"United States\",\n",
    "    'CANADA' : \"Canada\",\n",
    "    'IND' : \"India\",\n",
    "    'india ' : \"India\", \n",
    "    'Macao' : \"Morocco\", \n",
    "    'United states' : \"United States\", \n",
    "    'Oman' : \"Oman\", \n",
    "    'egypt' : \"Egypt\", \n",
    "    'MEXICO ' : \"Mexico\", \n",
    "    'u' : np.nan, \n",
    "    'Portugal' : \"Portugal\", \n",
    "    'Trinidad and Tobago' : \"Trinidad and Tobogo\"\n",
    "}"
   ]
  },
  {
   "cell_type": "code",
   "execution_count": 35,
   "metadata": {
    "collapsed": false
   },
   "outputs": [],
   "source": [
    "dump[\"country\"] = dump[\"country\"].map(coumap) # Applying thee mapping dictionary to the column "
   ]
  },
  {
   "cell_type": "code",
   "execution_count": 36,
   "metadata": {
    "collapsed": false
   },
   "outputs": [
    {
     "data": {
      "text/plain": [
       "array([nan, 'United States', 'Ireland', 'Ukraine', 'United Kingdom',\n",
       "       'Canada', 'India', 'Venezuela', 'Mexico', 'France', 'England',\n",
       "       'Spain', 'Brzail', 'Columbia', 'Romania', 'Argentina', 'Austrailia',\n",
       "       'Philippines', 'New Zealand', 'Vietnam', 'Italy', 'Nigeria',\n",
       "       'Russia', 'Poland', 'Israel', 'Netherlands', 'Paraguay', 'Croatia',\n",
       "       'Indonesia', 'Taiwan', 'Scotland', 'South Africa', 'Kenya',\n",
       "       'Germany', 'Japan', 'United Arab Emirates', 'Switzerland',\n",
       "       'Austria', 'Bulgaria', 'Denmark', 'Saudi Arabia', 'Cyprus',\n",
       "       'Sweeden', 'Sri Lanka', 'London', 'Belgium', 'Singapore', 'Bahrain',\n",
       "       'Bosnia and Herzegovina', 'Malaysis', 'Slovakia', 'Finland',\n",
       "       'China', 'Guatemala', 'Peru', 'Ecuador', 'Lithuania', 'Morocco',\n",
       "       'Cambodia', 'Serbia', 'Moldova', 'Nepal', 'Chile', 'Lebanon',\n",
       "       'Myanmar', 'Pakistan', 'Bangladesh', 'Jordan', 'Belarus', 'Brazil',\n",
       "       'Egypt', 'Albania', 'Norway', 'Turkey', 'Greece', 'Costa Rica',\n",
       "       'Timor Leste', 'Senegal', 'Solomon Islands', 'Oman', 'Portugal',\n",
       "       'Trinidad and Tobogo'], dtype=object)"
      ]
     },
     "execution_count": 36,
     "metadata": {},
     "output_type": "execute_result"
    }
   ],
   "source": [
    "pd.unique(dump[\"country\"]) #Again, making sure I'm not crazy"
   ]
  },
  {
   "cell_type": "code",
   "execution_count": 37,
   "metadata": {
    "collapsed": true
   },
   "outputs": [],
   "source": [
    "dump = dump.dropna() # Drop all null values"
   ]
  },
  {
   "cell_type": "code",
   "execution_count": 38,
   "metadata": {
    "collapsed": false,
    "scrolled": false
   },
   "outputs": [
    {
     "data": {
      "text/plain": [
       "United States             435\n",
       "India                     233\n",
       "United Kingdom             73\n",
       "Austrailia                 32\n",
       "Canada                     23\n",
       "Germany                    19\n",
       "Spain                      17\n",
       "Mexico                     12\n",
       "Ireland                    12\n",
       "Netherlands                11\n",
       "Ukraine                    11\n",
       "Brzail                     10\n",
       "Poland                      8\n",
       "Russia                      7\n",
       "France                      7\n",
       "Brazil                      6\n",
       "Romania                     6\n",
       "Philippines                 6\n",
       "United Arab Emirates        6\n",
       "Pakistan                    5\n",
       "Venezuela                   5\n",
       "China                       5\n",
       "Israel                      5\n",
       "Vietnam                     5\n",
       "Malaysis                    5\n",
       "South Africa                4\n",
       "New Zealand                 4\n",
       "Turkey                      4\n",
       "Japan                       4\n",
       "Bangladesh                  4\n",
       "Singapore                   4\n",
       "Italy                       4\n",
       "Croatia                     4\n",
       "Indonesia                   4\n",
       "Argentina                   3\n",
       "Switzerland                 3\n",
       "Austria                     3\n",
       "Serbia                      3\n",
       "Denmark                     3\n",
       "Saudi Arabia                3\n",
       "England                     3\n",
       "Belgium                     3\n",
       "Nigeria                     2\n",
       "Greece                      2\n",
       "Finland                     2\n",
       "Kenya                       2\n",
       "Lebanon                     2\n",
       "Morocco                     2\n",
       "Sweeden                     2\n",
       "Columbia                    2\n",
       "Bahrain                     2\n",
       "Slovakia                    2\n",
       "Bosnia and Herzegovina      2\n",
       "Cyprus                      2\n",
       "Peru                        2\n",
       "Egypt                       2\n",
       "Moldova                     2\n",
       "Scotland                    2\n",
       "Guatemala                   1\n",
       "Costa Rica                  1\n",
       "Myanmar                     1\n",
       "Sri Lanka                   1\n",
       "Paraguay                    1\n",
       "Jordan                      1\n",
       "Nepal                       1\n",
       "Bulgaria                    1\n",
       "Oman                        1\n",
       "Belarus                     1\n",
       "Chile                       1\n",
       "Lithuania                   1\n",
       "Taiwan                      1\n",
       "Solomon Islands             1\n",
       "Trinidad and Tobogo         1\n",
       "Ecuador                     1\n",
       "Cambodia                    1\n",
       "Senegal                     1\n",
       "Albania                     1\n",
       "Norway                      1\n",
       "Portugal                    1\n",
       "London                      1\n",
       "Timor Leste                 1\n",
       "Name: country, dtype: int64"
      ]
     },
     "execution_count": 38,
     "metadata": {},
     "output_type": "execute_result"
    }
   ],
   "source": [
    "dump[\"country\"].value_counts() # Returns the number of times a single country appears in the column"
   ]
  },
  {
   "cell_type": "code",
   "execution_count": 39,
   "metadata": {
    "collapsed": false
   },
   "outputs": [
    {
     "data": {
      "text/plain": [
       "1079"
      ]
     },
     "execution_count": 39,
     "metadata": {},
     "output_type": "execute_result"
    }
   ],
   "source": [
    "dump[\"country\"].value_counts().sum() # Calculates sum of users in every country listed in the Series"
   ]
  },
  {
   "cell_type": "code",
   "execution_count": 40,
   "metadata": {
    "collapsed": false
   },
   "outputs": [
    {
     "data": {
      "text/plain": [
       "United States             0.403151\n",
       "India                     0.215941\n",
       "United Kingdom            0.067655\n",
       "Austrailia                0.029657\n",
       "Canada                    0.021316\n",
       "Germany                   0.017609\n",
       "Spain                     0.015755\n",
       "Mexico                    0.011121\n",
       "Ireland                   0.011121\n",
       "Netherlands               0.010195\n",
       "Ukraine                   0.010195\n",
       "Brzail                    0.009268\n",
       "Poland                    0.007414\n",
       "Russia                    0.006487\n",
       "France                    0.006487\n",
       "Brazil                    0.005561\n",
       "Romania                   0.005561\n",
       "Philippines               0.005561\n",
       "United Arab Emirates      0.005561\n",
       "Pakistan                  0.004634\n",
       "Venezuela                 0.004634\n",
       "China                     0.004634\n",
       "Israel                    0.004634\n",
       "Vietnam                   0.004634\n",
       "Malaysis                  0.004634\n",
       "South Africa              0.003707\n",
       "New Zealand               0.003707\n",
       "Turkey                    0.003707\n",
       "Japan                     0.003707\n",
       "Bangladesh                0.003707\n",
       "Singapore                 0.003707\n",
       "Italy                     0.003707\n",
       "Croatia                   0.003707\n",
       "Indonesia                 0.003707\n",
       "Argentina                 0.002780\n",
       "Switzerland               0.002780\n",
       "Austria                   0.002780\n",
       "Serbia                    0.002780\n",
       "Denmark                   0.002780\n",
       "Saudi Arabia              0.002780\n",
       "England                   0.002780\n",
       "Belgium                   0.002780\n",
       "Nigeria                   0.001854\n",
       "Greece                    0.001854\n",
       "Finland                   0.001854\n",
       "Kenya                     0.001854\n",
       "Lebanon                   0.001854\n",
       "Morocco                   0.001854\n",
       "Sweeden                   0.001854\n",
       "Columbia                  0.001854\n",
       "Bahrain                   0.001854\n",
       "Slovakia                  0.001854\n",
       "Bosnia and Herzegovina    0.001854\n",
       "Cyprus                    0.001854\n",
       "Peru                      0.001854\n",
       "Egypt                     0.001854\n",
       "Moldova                   0.001854\n",
       "Scotland                  0.001854\n",
       "Guatemala                 0.000927\n",
       "Costa Rica                0.000927\n",
       "Myanmar                   0.000927\n",
       "Sri Lanka                 0.000927\n",
       "Paraguay                  0.000927\n",
       "Jordan                    0.000927\n",
       "Nepal                     0.000927\n",
       "Bulgaria                  0.000927\n",
       "Oman                      0.000927\n",
       "Belarus                   0.000927\n",
       "Chile                     0.000927\n",
       "Lithuania                 0.000927\n",
       "Taiwan                    0.000927\n",
       "Solomon Islands           0.000927\n",
       "Trinidad and Tobogo       0.000927\n",
       "Ecuador                   0.000927\n",
       "Cambodia                  0.000927\n",
       "Senegal                   0.000927\n",
       "Albania                   0.000927\n",
       "Norway                    0.000927\n",
       "Portugal                  0.000927\n",
       "London                    0.000927\n",
       "Timor Leste               0.000927\n",
       "Name: country, dtype: float64"
      ]
     },
     "execution_count": 40,
     "metadata": {},
     "output_type": "execute_result"
    }
   ],
   "source": [
    "dump[\"country\"].value_counts() / dump[\"country\"].value_counts().sum() \n",
    "# Returns the percentage of users in a single country"
   ]
  },
  {
   "cell_type": "markdown",
   "metadata": {},
   "source": [
    "## We'll return to working on the `survey` dataframe by:\n",
    "<ol> \n",
    "<li>Inspect the `question` column to return an array with all of the unique questions in the column.</li>\n",
    "<li>Filter the dataframe to return rows that contain the string asking the user to rate the assessment.</li>\n",
    "</ol>"
   ]
  },
  {
   "cell_type": "code",
   "execution_count": 41,
   "metadata": {
    "collapsed": false
   },
   "outputs": [],
   "source": [
    "rate = survey[survey.question.str.contains('Please rate this assessment from one to five, five being the highest')].copy()"
   ]
  },
  {
   "cell_type": "code",
   "execution_count": 42,
   "metadata": {
    "collapsed": false
   },
   "outputs": [
    {
     "data": {
      "text/html": [
       "<div>\n",
       "<table border=\"1\" class=\"dataframe\">\n",
       "  <thead>\n",
       "    <tr style=\"text-align: right;\">\n",
       "      <th></th>\n",
       "      <th>TestID</th>\n",
       "      <th>question</th>\n",
       "      <th>answer</th>\n",
       "    </tr>\n",
       "  </thead>\n",
       "  <tbody>\n",
       "    <tr>\n",
       "      <th>0</th>\n",
       "      <td>3527</td>\n",
       "      <td>Please rate this assessment from one to five, ...</td>\n",
       "      <td>5</td>\n",
       "    </tr>\n",
       "    <tr>\n",
       "      <th>10</th>\n",
       "      <td>3527</td>\n",
       "      <td>Please rate this assessment from one to five, ...</td>\n",
       "      <td>5</td>\n",
       "    </tr>\n",
       "    <tr>\n",
       "      <th>20</th>\n",
       "      <td>3527</td>\n",
       "      <td>Please rate this assessment from one to five, ...</td>\n",
       "      <td>5</td>\n",
       "    </tr>\n",
       "    <tr>\n",
       "      <th>30</th>\n",
       "      <td>3522</td>\n",
       "      <td>Please rate this assessment from one to five, ...</td>\n",
       "      <td>5</td>\n",
       "    </tr>\n",
       "    <tr>\n",
       "      <th>40</th>\n",
       "      <td>3521</td>\n",
       "      <td>Please rate this assessment from one to five, ...</td>\n",
       "      <td>5</td>\n",
       "    </tr>\n",
       "  </tbody>\n",
       "</table>\n",
       "</div>"
      ],
      "text/plain": [
       "    TestID                                           question answer\n",
       "0     3527  Please rate this assessment from one to five, ...      5\n",
       "10    3527  Please rate this assessment from one to five, ...      5\n",
       "20    3527  Please rate this assessment from one to five, ...      5\n",
       "30    3522  Please rate this assessment from one to five, ...      5\n",
       "40    3521  Please rate this assessment from one to five, ...      5"
      ]
     },
     "execution_count": 42,
     "metadata": {},
     "output_type": "execute_result"
    }
   ],
   "source": [
    "rate.head()"
   ]
  },
  {
   "cell_type": "code",
   "execution_count": 43,
   "metadata": {
    "collapsed": false
   },
   "outputs": [
    {
     "data": {
      "text/plain": [
       "TestID       int64\n",
       "question    object\n",
       "answer      object\n",
       "dtype: object"
      ]
     },
     "execution_count": 43,
     "metadata": {},
     "output_type": "execute_result"
    }
   ],
   "source": [
    "rate.dtypes # Check the dtypes of the rate dataframe"
   ]
  },
  {
   "cell_type": "code",
   "execution_count": 44,
   "metadata": {
    "collapsed": false
   },
   "outputs": [],
   "source": [
    "rate[\"answer\"] = pd.to_numeric(rate[\"answer\"]) # Converting the answer Series to numeric"
   ]
  },
  {
   "cell_type": "code",
   "execution_count": 45,
   "metadata": {
    "collapsed": false
   },
   "outputs": [
    {
     "data": {
      "text/plain": [
       "TestID       int64\n",
       "question    object\n",
       "answer       int64\n",
       "dtype: object"
      ]
     },
     "execution_count": 45,
     "metadata": {},
     "output_type": "execute_result"
    }
   ],
   "source": [
    "rate.dtypes # Making sure I'm not crazy"
   ]
  },
  {
   "cell_type": "code",
   "execution_count": 46,
   "metadata": {
    "collapsed": false
   },
   "outputs": [
    {
     "data": {
      "text/plain": [
       "4.624161073825503"
      ]
     },
     "execution_count": 46,
     "metadata": {},
     "output_type": "execute_result"
    }
   ],
   "source": [
    "rate[\"answer\"].mean()"
   ]
  },
  {
   "cell_type": "code",
   "execution_count": 47,
   "metadata": {
    "collapsed": false
   },
   "outputs": [],
   "source": [
    "rate1p = round(rate[rate[\"answer\"] == 1].shape[0] / rate.shape[0] * 100, 2)\n",
    "rate1 = rate[rate[\"answer\"] == 1].shape[0]\n",
    "\n",
    "rate2p = round(rate[rate[\"answer\"] == 2].shape[0] / rate.shape[0] * 100, 2)\n",
    "rate2 = rate[rate[\"answer\"] == 2].shape[0]\n",
    "\n",
    "rate3p = round(rate[rate[\"answer\"] == 3].shape[0] / rate.shape[0] * 100, 2)\n",
    "rate3 = rate[rate[\"answer\"] == 3].shape[0]\n",
    "\n",
    "rate4p = round(rate[rate[\"answer\"] == 4].shape[0] / rate.shape[0] * 100, 2)\n",
    "rate4 = rate[rate[\"answer\"] == 4].shape[0]\n",
    "\n",
    "rate5p = round(rate[rate[\"answer\"] == 5].shape[0] / rate.shape[0] * 100, 2)\n",
    "rate5 = rate[rate[\"answer\"] == 5].shape[0]"
   ]
  },
  {
   "cell_type": "code",
   "execution_count": 48,
   "metadata": {
    "collapsed": false
   },
   "outputs": [
    {
     "name": "stdout",
     "output_type": "stream",
     "text": [
      "The number of people who rated this assigmnet a 5 is 125 (83.89%)\n",
      "The number of people who rated this assigmnet a 4 is 11 (7.38%)\n",
      "The number of people who rated this assigmnet a 3 is 3 (2.01%)\n",
      "The number of people who rated this assigmnet a 2 is 1 (0.67%)\n",
      "The number of people who rated this assigmnet a 1 is 9 (6.04%)\n"
     ]
    }
   ],
   "source": [
    "print(\"The number of people who rated this assigmnet a 5 is {} ({}%)\".format(rate5, rate5p))\n",
    "\n",
    "print(\"The number of people who rated this assigmnet a 4 is {} ({}%)\".format(rate4, rate4p))\n",
    "\n",
    "print(\"The number of people who rated this assigmnet a 3 is {} ({}%)\".format(rate3, rate3p))\n",
    "\n",
    "print(\"The number of people who rated this assigmnet a 2 is {} ({}%)\".format(rate2, rate2p))\n",
    "\n",
    "print(\"The number of people who rated this assigmnet a 1 is {} ({}%)\".format(rate1, rate1p))"
   ]
  },
  {
   "cell_type": "code",
   "execution_count": 49,
   "metadata": {
    "collapsed": true
   },
   "outputs": [],
   "source": [
    "rscale = [x for x in range(1,6)]\n",
    "numpeo = [rate1, rate2, rate3, rate4, rate5]"
   ]
  },
  {
   "cell_type": "code",
   "execution_count": 50,
   "metadata": {
    "collapsed": false
   },
   "outputs": [
    {
     "name": "stdout",
     "output_type": "stream",
     "text": [
      "[1, 2, 3, 4, 5] [9, 1, 3, 11, 125]\n"
     ]
    }
   ],
   "source": [
    "print(rscale, numpeo) # Making sure the list compresion and the list declaration worked"
   ]
  },
  {
   "cell_type": "code",
   "execution_count": 73,
   "metadata": {
    "collapsed": false
   },
   "outputs": [
    {
     "data": {
      "image/png": "[encoded data removed]",
      "text/plain": [
       "<matplotlib.figure.Figure at 0x1178f8320>"
      ]
     },
     "metadata": {},
     "output_type": "display_data"
    }
   ],
   "source": [
    "plt.bar(rscale, numpeo)\n",
    "plt.xlabel(\"Rating\")\n",
    "plt.ylabel(\"Number of People\")\n",
    "plt.title(\"Number of ratings by rating\", weight = 'bold', fontsize = 15)\n",
    "plt.grid(False)"
   ]
  },
  {
   "cell_type": "markdown",
   "metadata": {},
   "source": [
    "### We're returning to the `score` dataframe and doing the following:\n",
    "\n",
    "<ul>\n",
    "<li> Filter down the `assessment_name` column to return the rows of the `score` dataframe containing the name of each assessment and assigning that to its own dataframe </li>\n",
    "<li> Create a Box and Whisker Plot that describes the each assessment scores located in the newly created dataframes</li>\n",
    "<li> Use the `.describe()` method to display some basic statistics for the `score` column of each newly created dataframes</li>\n",
    "</ul>"
   ]
  },
  {
   "cell_type": "code",
   "execution_count": 52,
   "metadata": {
    "collapsed": false
   },
   "outputs": [
    {
     "data": {
      "text/plain": [
       "array(['High Availability, Fault Tolerance, and Scalability',\n",
       "       'VPC and VPC Networking', 'Design and Implement S3 Solutions',\n",
       "       'Troubleshoot Multi-Tier Applications',\n",
       "       'Implement Elastic Beanstalk Solutions',\n",
       "       'Implementing Backup Strategies'], dtype=object)"
      ]
     },
     "execution_count": 52,
     "metadata": {},
     "output_type": "execute_result"
    }
   ],
   "source": [
    "pd.unique(score[\"assessment_name\"])"
   ]
  },
  {
   "cell_type": "code",
   "execution_count": 53,
   "metadata": {
    "collapsed": true
   },
   "outputs": [],
   "source": [
    "HAFTS = score[score.assessment_name.str.contains('High Availability, Fault Tolerance, and Scalability')].copy()\n",
    "\n",
    "VPC = score[score.assessment_name.str.contains('VPC and VPC Networking', 'Design and Implement S3 Solutions')].copy()\n",
    "\n",
    "TMMA = score[score.assessment_name.str.contains('Troubleshoot Multi-Tier Applications')].copy()\n",
    "\n",
    "IEBS = score[score.assessment_name.str.contains('Implement Elastic Beanstalk Solutions')].copy()\n",
    "\n",
    "IBS = score[score.assessment_name.str.contains('Implementing Backup Strategies')].copy()\n",
    "\n",
    "DIS = score[score.assessment_name.str.contains('Design and Implement S3 Solutions')].copy()"
   ]
  },
  {
   "cell_type": "code",
   "execution_count": 54,
   "metadata": {
    "collapsed": false
   },
   "outputs": [
    {
     "data": {
      "text/plain": [
       "<matplotlib.axes._subplots.AxesSubplot at 0x1149e7518>"
      ]
     },
     "execution_count": 54,
     "metadata": {},
     "output_type": "execute_result"
    },
    {
     "data": {
      "image/png": "[encoded data removed]",
      "text/plain": [
       "<matplotlib.figure.Figure at 0x11444b4a8>"
      ]
     },
     "metadata": {},
     "output_type": "display_data"
    }
   ],
   "source": [
    "sns.boxplot(HAFTS[\"score\"])"
   ]
  },
  {
   "cell_type": "code",
   "execution_count": 55,
   "metadata": {
    "collapsed": false
   },
   "outputs": [
    {
     "data": {
      "text/plain": [
       "count    227.000000\n",
       "mean      23.962995\n",
       "std       38.595826\n",
       "min        0.000000\n",
       "25%        0.000000\n",
       "50%        0.000000\n",
       "75%       61.050001\n",
       "max      100.000000\n",
       "Name: score, dtype: float64"
      ]
     },
     "execution_count": 55,
     "metadata": {},
     "output_type": "execute_result"
    }
   ],
   "source": [
    "HAFTS[\"score\"].describe()"
   ]
  },
  {
   "cell_type": "code",
   "execution_count": 56,
   "metadata": {
    "collapsed": false
   },
   "outputs": [
    {
     "data": {
      "text/plain": [
       "<matplotlib.axes._subplots.AxesSubplot at 0x1149e7d30>"
      ]
     },
     "execution_count": 56,
     "metadata": {},
     "output_type": "execute_result"
    },
    {
     "data": {
      "image/png": "[encoded data removed]",
      "text/plain": [
       "<matplotlib.figure.Figure at 0x114a388d0>"
      ]
     },
     "metadata": {},
     "output_type": "display_data"
    }
   ],
   "source": [
    "sns.boxplot(VPC[\"score\"])"
   ]
  },
  {
   "cell_type": "code",
   "execution_count": 57,
   "metadata": {
    "collapsed": false
   },
   "outputs": [
    {
     "data": {
      "text/plain": [
       "count     86.000000\n",
       "mean      56.860000\n",
       "std       42.348337\n",
       "min        0.000000\n",
       "25%        0.000000\n",
       "50%       70.830002\n",
       "75%       98.542500\n",
       "max      100.000000\n",
       "Name: score, dtype: float64"
      ]
     },
     "execution_count": 57,
     "metadata": {},
     "output_type": "execute_result"
    }
   ],
   "source": [
    "VPC[\"score\"].describe()"
   ]
  },
  {
   "cell_type": "code",
   "execution_count": 58,
   "metadata": {
    "collapsed": false
   },
   "outputs": [
    {
     "data": {
      "text/plain": [
       "<matplotlib.axes._subplots.AxesSubplot at 0x114b394e0>"
      ]
     },
     "execution_count": 58,
     "metadata": {},
     "output_type": "execute_result"
    },
    {
     "data": {
      "image/png": "[encoded data removed]",
      "text/plain": [
       "<matplotlib.figure.Figure at 0x114c08ef0>"
      ]
     },
     "metadata": {},
     "output_type": "display_data"
    }
   ],
   "source": [
    "sns.boxplot(TMMA[\"score\"])"
   ]
  },
  {
   "cell_type": "code",
   "execution_count": 59,
   "metadata": {
    "collapsed": false
   },
   "outputs": [
    {
     "data": {
      "text/plain": [
       "count    45.000000\n",
       "mean     55.586222\n",
       "std      36.211001\n",
       "min       0.000000\n",
       "25%      24.000000\n",
       "50%      63.540001\n",
       "75%      89.989998\n",
       "max      99.989998\n",
       "Name: score, dtype: float64"
      ]
     },
     "execution_count": 59,
     "metadata": {},
     "output_type": "execute_result"
    }
   ],
   "source": [
    "TMMA[\"score\"].describe()"
   ]
  },
  {
   "cell_type": "code",
   "execution_count": 60,
   "metadata": {
    "collapsed": false
   },
   "outputs": [
    {
     "data": {
      "text/plain": [
       "<matplotlib.axes._subplots.AxesSubplot at 0x114d33d68>"
      ]
     },
     "execution_count": 60,
     "metadata": {},
     "output_type": "execute_result"
    },
    {
     "data": {
      "image/png": "[encoded data removed]",
      "text/plain": [
       "<matplotlib.figure.Figure at 0x114d3b908>"
      ]
     },
     "metadata": {},
     "output_type": "display_data"
    }
   ],
   "source": [
    "sns.boxplot(IEBS[\"score\"])"
   ]
  },
  {
   "cell_type": "code",
   "execution_count": 61,
   "metadata": {
    "collapsed": false
   },
   "outputs": [
    {
     "data": {
      "text/plain": [
       "count     93.000000\n",
       "mean      51.884624\n",
       "std       37.575058\n",
       "min        0.000000\n",
       "25%       20.840000\n",
       "50%       50.840000\n",
       "75%       92.500000\n",
       "max      100.000000\n",
       "Name: score, dtype: float64"
      ]
     },
     "execution_count": 61,
     "metadata": {},
     "output_type": "execute_result"
    }
   ],
   "source": [
    "IEBS[\"score\"].describe()"
   ]
  },
  {
   "cell_type": "code",
   "execution_count": 62,
   "metadata": {
    "collapsed": false
   },
   "outputs": [
    {
     "data": {
      "text/plain": [
       "<matplotlib.axes._subplots.AxesSubplot at 0x1148bdda0>"
      ]
     },
     "execution_count": 62,
     "metadata": {},
     "output_type": "execute_result"
    },
    {
     "data": {
      "image/png": "[encoded data removed]",
      "text/plain": [
       "<matplotlib.figure.Figure at 0x117238470>"
      ]
     },
     "metadata": {},
     "output_type": "display_data"
    }
   ],
   "source": [
    "sns.boxplot(IBS[\"score\"])"
   ]
  },
  {
   "cell_type": "code",
   "execution_count": 63,
   "metadata": {
    "collapsed": false
   },
   "outputs": [
    {
     "data": {
      "text/plain": [
       "count     57.000000\n",
       "mean      32.961929\n",
       "std       35.945481\n",
       "min        0.000000\n",
       "25%        0.000000\n",
       "50%       23.340000\n",
       "75%       68.889999\n",
       "max      100.000000\n",
       "Name: score, dtype: float64"
      ]
     },
     "execution_count": 63,
     "metadata": {},
     "output_type": "execute_result"
    }
   ],
   "source": [
    "IBS[\"score\"].describe()"
   ]
  },
  {
   "cell_type": "code",
   "execution_count": 66,
   "metadata": {
    "collapsed": false
   },
   "outputs": [
    {
     "data": {
      "text/plain": [
       "<matplotlib.axes._subplots.AxesSubplot at 0x1172938d0>"
      ]
     },
     "execution_count": 66,
     "metadata": {},
     "output_type": "execute_result"
    },
    {
     "data": {
      "image/png": "[encoded data removed]",
      "text/plain": [
       "<matplotlib.figure.Figure at 0x1172bb2e8>"
      ]
     },
     "metadata": {},
     "output_type": "display_data"
    }
   ],
   "source": [
    "sns.boxplot(DIS[\"score\"])"
   ]
  },
  {
   "cell_type": "code",
   "execution_count": 67,
   "metadata": {
    "collapsed": false
   },
   "outputs": [
    {
     "data": {
      "text/plain": [
       "count     69.000000\n",
       "mean      51.387391\n",
       "std       39.232317\n",
       "min        0.000000\n",
       "25%       13.340000\n",
       "50%       54.139999\n",
       "75%       90.349998\n",
       "max      100.000000\n",
       "Name: score, dtype: float64"
      ]
     },
     "execution_count": 67,
     "metadata": {},
     "output_type": "execute_result"
    }
   ],
   "source": [
    "DIS[\"score\"].describe()"
   ]
  },
  {
   "cell_type": "markdown",
   "metadata": {},
   "source": [
    "# Question 2: Return the average time taken for each assessment. Group by assessment name"
   ]
  },
  {
   "cell_type": "markdown",
   "metadata": {},
   "source": [
    "```\n",
    "SELECT z.assessmentname as \"Assessment\",\n",
    "\t   AVG(z.elapsedtime)/60 as \"Average Minutes\"\n",
    "FROM\n",
    "(\n",
    "SELECT e1.\"TestID\",\n",
    "\t   e1.assessmentname, \n",
    "\t   e1.eventcode,\n",
    "       e1.timestamp,\n",
    "       e2.\"TestID\",\n",
    "       e2.eventcode, \n",
    "       e2.timestamp,\n",
    "       EXTRACT('second' FROM e2.timestamp::TIMESTAMP - e1.timestamp::TIMESTAMP) + 60 * EXTRACT('minute' FROM e2.timestamp::TIMESTAMP - e1.timestamp::TIMESTAMP) AS \"elapsedtime\"\t\n",
    "\tFROM public.\"Events\" AS e1 \n",
    "\tLEFT JOIN public.\"Events\" AS e2 on e1.\"TestID\" = e2.\"TestID\"\n",
    "\tWHERE e1.eventcode = 'STRASMNT' and e2.eventcode = 'CMPLASMNT'\n",
    "\tORDER BY e1.\"TestID\"\n",
    ") z\n",
    "GROUP BY assessmentname\n",
    "```"
   ]
  },
  {
   "cell_type": "code",
   "execution_count": 64,
   "metadata": {
    "collapsed": false
   },
   "outputs": [
    {
     "data": {
      "text/html": [
       "<div>\n",
       "<table border=\"1\" class=\"dataframe\">\n",
       "  <thead>\n",
       "    <tr style=\"text-align: right;\">\n",
       "      <th></th>\n",
       "      <th>Assessment</th>\n",
       "      <th>Average Time Taken (in minutes)</th>\n",
       "    </tr>\n",
       "  </thead>\n",
       "  <tbody>\n",
       "    <tr>\n",
       "      <th>0</th>\n",
       "      <td>Implementing Backup Strategies</td>\n",
       "      <td>17.077143</td>\n",
       "    </tr>\n",
       "    <tr>\n",
       "      <th>1</th>\n",
       "      <td>High Availability, Fault Tolerance, and Scalab...</td>\n",
       "      <td>19.807670</td>\n",
       "    </tr>\n",
       "    <tr>\n",
       "      <th>2</th>\n",
       "      <td>VPC and VPC Networking</td>\n",
       "      <td>20.150000</td>\n",
       "    </tr>\n",
       "    <tr>\n",
       "      <th>3</th>\n",
       "      <td>Design and Implement S3 Solutions</td>\n",
       "      <td>19.602206</td>\n",
       "    </tr>\n",
       "    <tr>\n",
       "      <th>4</th>\n",
       "      <td>Troubleshoot Multi-Tier Applications</td>\n",
       "      <td>26.361250</td>\n",
       "    </tr>\n",
       "    <tr>\n",
       "      <th>5</th>\n",
       "      <td>Implement Elastic Beanstalk Solutions</td>\n",
       "      <td>18.618590</td>\n",
       "    </tr>\n",
       "  </tbody>\n",
       "</table>\n",
       "</div>"
      ],
      "text/plain": [
       "                                          Assessment  \\\n",
       "0                     Implementing Backup Strategies   \n",
       "1  High Availability, Fault Tolerance, and Scalab...   \n",
       "2                             VPC and VPC Networking   \n",
       "3                  Design and Implement S3 Solutions   \n",
       "4               Troubleshoot Multi-Tier Applications   \n",
       "5              Implement Elastic Beanstalk Solutions   \n",
       "\n",
       "   Average Time Taken (in minutes)  \n",
       "0                        17.077143  \n",
       "1                        19.807670  \n",
       "2                        20.150000  \n",
       "3                        19.602206  \n",
       "4                        26.361250  \n",
       "5                        18.618590  "
      ]
     },
     "execution_count": 64,
     "metadata": {},
     "output_type": "execute_result"
    }
   ],
   "source": [
    "Q2df = pd.read_csv(\"average_time.csv\")\n",
    "Q2df"
   ]
  },
  {
   "cell_type": "markdown",
   "metadata": {
    "collapsed": true
   },
   "source": [
    "# Question 3: Generate a list of users that fit the following criteria: Got 80% or above on an assessment, Had a 100% chance of referring  a friend, Is based in the USA, Has received AWS certifications, Sort by test scores and most taken assessments first."
   ]
  },
  {
   "cell_type": "markdown",
   "metadata": {},
   "source": [
    "```\n",
    "SELECT s.\"TestId\",\n",
    "       s.\"UserId\",\n",
    "       s.\"assessment_name\",\n",
    "       s.\"score\",\n",
    "       u.\"question\",\n",
    "       u.\"answer\",\n",
    "       d.\"country\",\n",
    "       d.\"certifications\"\n",
    "FROM public.\"Score\" s\n",
    "INNER JOIN public.\"Survey\" u ON s.\"TestId\" = u.\"TestID\"\n",
    "INNER JOIN public.\"Dump\" d ON s.\"UserId\" = d.\"UserId\"\n",
    "WHERE s.score >= 80\n",
    "AND u.question ILIKE '%scale of one to ten%'\n",
    "AND u.answer ILIKE '10'\n",
    "AND d.country ILIKE 'U%S%A'\n",
    "AND d.certifications ILIKE '%aws%'\n",
    "```"
   ]
  },
  {
   "cell_type": "code",
   "execution_count": 65,
   "metadata": {
    "collapsed": false
   },
   "outputs": [
    {
     "data": {
      "text/html": [
       "<div>\n",
       "<table border=\"1\" class=\"dataframe\">\n",
       "  <thead>\n",
       "    <tr style=\"text-align: right;\">\n",
       "      <th></th>\n",
       "      <th>TestId</th>\n",
       "      <th>UserId</th>\n",
       "      <th>assessment_name</th>\n",
       "      <th>score</th>\n",
       "      <th>question</th>\n",
       "      <th>answer</th>\n",
       "      <th>country</th>\n",
       "      <th>certifications</th>\n",
       "    </tr>\n",
       "  </thead>\n",
       "  <tbody>\n",
       "    <tr>\n",
       "      <th>0</th>\n",
       "      <td>3894</td>\n",
       "      <td>1809</td>\n",
       "      <td>VPC and VPC Networking</td>\n",
       "      <td>100</td>\n",
       "      <td>On a scale of one to ten, how likely are you t...</td>\n",
       "      <td>10</td>\n",
       "      <td>USA</td>\n",
       "      <td>[aws_solutions_architect]</td>\n",
       "    </tr>\n",
       "  </tbody>\n",
       "</table>\n",
       "</div>"
      ],
      "text/plain": [
       "   TestId  UserId         assessment_name  score  \\\n",
       "0    3894    1809  VPC and VPC Networking    100   \n",
       "\n",
       "                                            question  answer country  \\\n",
       "0  On a scale of one to ten, how likely are you t...      10     USA   \n",
       "\n",
       "              certifications  \n",
       "0  [aws_solutions_architect]  "
      ]
     },
     "execution_count": 65,
     "metadata": {},
     "output_type": "execute_result"
    }
   ],
   "source": [
    "score_and_perf_USA_AWS = pd.read_csv(\"score_and_perf_US_aws.csv\")\n",
    "score_and_perf_USA_AWS"
   ]
  }
 ],
 "metadata": {
  "kernelspec": {
   "display_name": "Python 3",
   "language": "python",
   "name": "python3"
  },
  "language_info": {
   "codemirror_mode": {
    "name": "ipython",
    "version": 3
   },
   "file_extension": ".py",
   "mimetype": "text/x-python",
   "name": "python",
   "nbconvert_exporter": "python",
   "pygments_lexer": "ipython3",
   "version": "3.6.0"
  }
 },
 "nbformat": 4,
 "nbformat_minor": 2
}
